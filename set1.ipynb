{
 "cells": [
  {
   "cell_type": "markdown",
   "source": [
    "# Set 1: Vectorized code and introduction to machine learning\n",
    "\n",
    "## Task 1c)"
   ],
   "metadata": {
    "collapsed": false
   }
  },
  {
   "cell_type": "code",
   "execution_count": 1,
   "outputs": [
    {
     "name": "stdout",
     "output_type": "stream",
     "text": [
      "550\n"
     ]
    }
   ],
   "source": [
    "import numpy as np\n",
    "\n",
    "a = np.array([1,2,3,4,5])\n",
    "b = np.array([10,20,30,40,50])\n",
    "\n",
    "y = a @ b\n",
    "print(y)"
   ],
   "metadata": {
    "collapsed": false,
    "ExecuteTime": {
     "end_time": "2024-08-21T11:03:47.926055Z",
     "start_time": "2024-08-21T11:03:47.803594Z"
    }
   }
  },
  {
   "cell_type": "markdown",
   "source": [
    "## Task 1d)"
   ],
   "metadata": {
    "collapsed": false
   }
  },
  {
   "cell_type": "code",
   "execution_count": 2,
   "outputs": [
    {
     "name": "stdout",
     "output_type": "stream",
     "text": [
      "[ 68 167 266]\n"
     ]
    }
   ],
   "source": [
    "X = np.array([[1,2,3],\n",
    "              [4,5,6],\n",
    "              [7,8,9]])\n",
    "b = np.array([10,11,12])\n",
    "\n",
    "y = X @ b\n",
    "print(y)"
   ],
   "metadata": {
    "collapsed": false,
    "ExecuteTime": {
     "end_time": "2024-08-21T11:16:38.014242Z",
     "start_time": "2024-08-21T11:16:38.011355Z"
    }
   }
  },
  {
   "cell_type": "markdown",
   "source": [
    "## Task 1e)"
   ],
   "metadata": {
    "collapsed": false
   }
  },
  {
   "cell_type": "code",
   "execution_count": 3,
   "outputs": [
    {
     "name": "stdout",
     "output_type": "stream",
     "text": [
      "501\n"
     ]
    }
   ],
   "source": [
    "X = np.array([[1,2,3],\n",
    "              [4,5,6],\n",
    "              [7,8,9]])\n",
    "b = np.array([10,11,12])\n",
    "\n",
    "y = (X @ b).sum()\n",
    "print(y)"
   ],
   "metadata": {
    "collapsed": false,
    "ExecuteTime": {
     "end_time": "2024-08-21T11:18:00.789840Z",
     "start_time": "2024-08-21T11:18:00.787054Z"
    }
   }
  },
  {
   "cell_type": "markdown",
   "source": [
    "## Task 1f)"
   ],
   "metadata": {
    "collapsed": false
   }
  },
  {
   "cell_type": "code",
   "execution_count": 4,
   "outputs": [
    {
     "name": "stdout",
     "output_type": "stream",
     "text": [
      "[[ 47  62  77  92]\n",
      " [ 59  78  97 116]\n",
      " [ 71  94 117 140]\n",
      " [ 83 110 137 164]]\n"
     ]
    }
   ],
   "source": [
    "\n",
    "Z = np.array([[7,8],[9,10],[11,12],[13,14]])   # Z is a PxM matrix. Here P=4 and M=2\n",
    "\n",
    "X = np.array([[1,2,3,4],\n",
    "              [5,6,7,8]])  # X is a MxN matrix. Here M=2 and N=4\n",
    "\n",
    "Y = Z @ X   # This should be a PxN matrix (here 4x4)\n",
    "print (Y)\n"
   ],
   "metadata": {
    "collapsed": false,
    "ExecuteTime": {
     "end_time": "2024-08-21T11:19:03.957870Z",
     "start_time": "2024-08-21T11:19:03.955325Z"
    }
   }
  },
  {
   "cell_type": "markdown",
   "source": [
    "## Task 1g)"
   ],
   "metadata": {
    "collapsed": false
   }
  },
  {
   "cell_type": "code",
   "execution_count": 20,
   "outputs": [],
   "source": [
    "# Samples. Here we have N=3 samples with n=5 features. Each sample is a row-vector in X.\n",
    "\n",
    "X = np.array([[1, 2, 3, 4, 5],\n",
    "     [6, 7, 8, 9, 10],\n",
    "     [11, 12, 13, 14, 15]])  # Nxn matrix\n",
    "\n",
    "# Parameter vector. These parameters takes each sample from R^n and maps them to R^P\n",
    "# Here we have chosen P=4\n",
    "\n",
    "w = np.array([[1, 2, 3, -1],\n",
    "     [4, 5, 6, -2],\n",
    "     [7, 8, 9, -3],\n",
    "     [10, 11, 12, -4],\n",
    "     [13, 14, 15, -5]])    # nxP matrix\n",
    "\n",
    "# \"Weight\" vector a. This vector should be in R^P, where P=4 in this case\n",
    "\n",
    "a= np.array([10, 20, 30, -10]).transpose()   #Transpose it to make it a column vector Px1\n",
    "\n",
    "v = X @ w    # Will form a NxP matrix\n",
    "\n",
    "y = v @ a    # Will form a Nx1 row vector, N=3\n",
    "\n",
    "print(y)\n"
   ],
   "metadata": {
    "collapsed": false,
    "ExecuteTime": {
     "end_time": "2023-08-22T07:24:02.200215700Z",
     "start_time": "2023-08-22T07:24:02.194714700Z"
    }
   }
  },
  {
   "cell_type": "markdown",
   "source": [
    "## Task 1h)"
   ],
   "metadata": {
    "collapsed": false
   }
  },
  {
   "cell_type": "code",
   "execution_count": 11,
   "outputs": [
    {
     "name": "stdout",
     "output_type": "stream",
     "text": [
      "(4, 3)\n",
      "(3, 1)\n"
     ]
    },
    {
     "ename": "TypeError",
     "evalue": "'numpy.ndarray' object is not callable",
     "output_type": "error",
     "traceback": [
      "\u001B[1;31m---------------------------------------------------------------------------\u001B[0m",
      "\u001B[1;31mTypeError\u001B[0m                                 Traceback (most recent call last)",
      "Cell \u001B[1;32mIn[11], line 42\u001B[0m\n\u001B[0;32m     35\u001B[0m X \u001B[38;5;241m=\u001B[39m np\u001B[38;5;241m.\u001B[39marray([[\u001B[38;5;241m1\u001B[39m,\u001B[38;5;241m2\u001B[39m,\u001B[38;5;241m3\u001B[39m],\n\u001B[0;32m     36\u001B[0m               [\u001B[38;5;241m4\u001B[39m,\u001B[38;5;241m5\u001B[39m,\u001B[38;5;241m6\u001B[39m],\n\u001B[0;32m     37\u001B[0m               [\u001B[38;5;241m7\u001B[39m,\u001B[38;5;241m8\u001B[39m,\u001B[38;5;241m9\u001B[39m],\n\u001B[0;32m     38\u001B[0m               [\u001B[38;5;241m10\u001B[39m,\u001B[38;5;241m11\u001B[39m,\u001B[38;5;241m12\u001B[39m]])\n\u001B[0;32m     40\u001B[0m b \u001B[38;5;241m=\u001B[39m np\u001B[38;5;241m.\u001B[39marray([[\u001B[38;5;241m10\u001B[39m,\u001B[38;5;241m11\u001B[39m,\u001B[38;5;241m12\u001B[39m]])\u001B[38;5;241m.\u001B[39mT\n\u001B[1;32m---> 42\u001B[0m \u001B[43mmatrix_multiply\u001B[49m\u001B[43m(\u001B[49m\u001B[43mX\u001B[49m\u001B[43m,\u001B[49m\u001B[43mb\u001B[49m\u001B[43m)\u001B[49m\n",
      "Cell \u001B[1;32mIn[11], line 26\u001B[0m, in \u001B[0;36mmatrix_multiply\u001B[1;34m(X, Z)\u001B[0m\n\u001B[0;32m     24\u001B[0m \u001B[38;5;28;01mfor\u001B[39;00m i \u001B[38;5;129;01min\u001B[39;00m \u001B[38;5;28mrange\u001B[39m(P):\n\u001B[0;32m     25\u001B[0m     \u001B[38;5;28;01mfor\u001B[39;00m k \u001B[38;5;129;01min\u001B[39;00m \u001B[38;5;28mrange\u001B[39m(M):\n\u001B[1;32m---> 26\u001B[0m         Y[i,j] \u001B[38;5;241m+\u001B[39m\u001B[38;5;241m=\u001B[39m \u001B[43mX\u001B[49m\u001B[43m(\u001B[49m\u001B[43mi\u001B[49m\u001B[43m,\u001B[49m\u001B[43mk\u001B[49m\u001B[43m)\u001B[49m\u001B[38;5;241m*\u001B[39mZ(k,j)\n",
      "\u001B[1;31mTypeError\u001B[0m: 'numpy.ndarray' object is not callable"
     ]
    }
   ],
   "source": [
    "from numpy import ndarray\n",
    "\n",
    "def matrix_multiply(X: ndarray, Z: ndarray) :\n",
    "\n",
    "    if X.ndim != 2 or Z.ndim != 2:\n",
    "        raise Exception(\"We only accept ndarrays with the shape of matrixes (two dimensions)\")\n",
    "\n",
    "    print(X.shape)\n",
    "    print(Z.shape)\n",
    "\n",
    "    if X.shape[1] != Z.shape[0] :\n",
    "        raise Exception(\"Number of columns in X must equal number of rows in Y\")\n",
    "\n",
    "    # We have now established a valid multiplication of a nxm with a mxp matrix.\n",
    "    M = X.shape[0]\n",
    "    N = X.shape[1]\n",
    "    P = Z.shape[1]\n",
    "\n",
    "    # Now do the matrix multiplications\n",
    "\n",
    "    Y = np.zeros([M,P])\n",
    "    \n",
    "    for j in range(N):\n",
    "        for i in range(P):\n",
    "            for k in range(M):\n",
    "                Y[i,j] += X(i,k)*Z(k,j)\n",
    "      \n",
    "    \n",
    "    # That was as far as I got...\n",
    "\n",
    "\n",
    "\n",
    "\n",
    "\n",
    "X = np.array([[1,2,3],\n",
    "              [4,5,6],\n",
    "              [7,8,9],\n",
    "              [10,11,12]])\n",
    "\n",
    "b = np.array([[10,11,12]]).T\n",
    "\n",
    "matrix_multiply(X,b)\n",
    "\n",
    "\n"
   ],
   "metadata": {
    "collapsed": false,
    "ExecuteTime": {
     "end_time": "2024-08-21T12:27:50.480345Z",
     "start_time": "2024-08-21T12:27:27.574884Z"
    }
   }
  }
 ],
 "metadata": {
  "kernelspec": {
   "display_name": "Python 3",
   "language": "python",
   "name": "python3"
  },
  "language_info": {
   "codemirror_mode": {
    "name": "ipython",
    "version": 2
   },
   "file_extension": ".py",
   "mimetype": "text/x-python",
   "name": "python",
   "nbconvert_exporter": "python",
   "pygments_lexer": "ipython2",
   "version": "2.7.6"
  }
 },
 "nbformat": 4,
 "nbformat_minor": 0
}
