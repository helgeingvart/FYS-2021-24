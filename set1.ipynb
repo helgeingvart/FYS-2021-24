{
 "cells": [
  {
   "cell_type": "markdown",
   "source": [
    "# Set 1: Vectorized code and introduction to machine learning\n",
    "\n",
    "## Task 1c)"
   ],
   "metadata": {
    "collapsed": false
   }
  },
  {
   "cell_type": "code",
   "source": [
    "import numpy as np\n",
    "\n",
    "a = np.array([1,2,3,4,5])\n",
    "b = np.array([10,20,30,40,50])\n",
    "\n",
    "y = a @ b\n",
    "print(y)"
   ],
   "metadata": {
    "collapsed": false,
    "ExecuteTime": {
     "end_time": "2024-08-21T15:31:51.960897Z",
     "start_time": "2024-08-21T15:31:51.781932Z"
    }
   },
   "outputs": [
    {
     "name": "stdout",
     "output_type": "stream",
     "text": [
      "550\n"
     ]
    }
   ],
   "execution_count": 1
  },
  {
   "cell_type": "markdown",
   "source": [
    "## Task 1d)"
   ],
   "metadata": {
    "collapsed": false
   }
  },
  {
   "cell_type": "code",
   "source": [
    "X = np.array([[1,2,3],\n",
    "              [4,5,6],\n",
    "              [7,8,9]])\n",
    "b = np.array([10,11,12])\n",
    "\n",
    "y = X @ b\n",
    "print(y)"
   ],
   "metadata": {
    "collapsed": false,
    "ExecuteTime": {
     "end_time": "2024-08-21T15:31:51.980703Z",
     "start_time": "2024-08-21T15:31:51.977831Z"
    }
   },
   "outputs": [
    {
     "name": "stdout",
     "output_type": "stream",
     "text": [
      "[ 68 167 266]\n"
     ]
    }
   ],
   "execution_count": 2
  },
  {
   "cell_type": "markdown",
   "source": [
    "## Task 1e)"
   ],
   "metadata": {
    "collapsed": false
   }
  },
  {
   "cell_type": "code",
   "source": [
    "X = np.array([[1,2,3],\n",
    "              [4,5,6],\n",
    "              [7,8,9]])\n",
    "b = np.array([10,11,12])\n",
    "\n",
    "y = (X @ b).sum()\n",
    "print(y)"
   ],
   "metadata": {
    "collapsed": false,
    "ExecuteTime": {
     "end_time": "2024-08-21T15:31:52.351341Z",
     "start_time": "2024-08-21T15:31:52.347830Z"
    }
   },
   "outputs": [
    {
     "name": "stdout",
     "output_type": "stream",
     "text": [
      "501\n"
     ]
    }
   ],
   "execution_count": 3
  },
  {
   "cell_type": "markdown",
   "source": [
    "## Task 1f)"
   ],
   "metadata": {
    "collapsed": false
   }
  },
  {
   "cell_type": "code",
   "source": [
    "\n",
    "Z = np.array([[7,8],[9,10],[11,12],[13,14]])   # Z is a PxM matrix. Here P=4 and M=2\n",
    "\n",
    "X = np.array([[1,2,3,4],\n",
    "              [5,6,7,8]])  # X is a MxN matrix. Here M=2 and N=4\n",
    "\n",
    "Y = Z @ X   # This should be a PxN matrix (here 4x4)\n",
    "print (Y)\n"
   ],
   "metadata": {
    "collapsed": false,
    "ExecuteTime": {
     "end_time": "2024-08-21T15:31:52.367684Z",
     "start_time": "2024-08-21T15:31:52.363340Z"
    }
   },
   "outputs": [
    {
     "name": "stdout",
     "output_type": "stream",
     "text": [
      "[[ 47  62  77  92]\n",
      " [ 59  78  97 116]\n",
      " [ 71  94 117 140]\n",
      " [ 83 110 137 164]]\n"
     ]
    }
   ],
   "execution_count": 4
  },
  {
   "cell_type": "markdown",
   "source": [
    "## Task 1g)"
   ],
   "metadata": {
    "collapsed": false
   }
  },
  {
   "cell_type": "code",
   "source": [
    "# Samples. Here we have N=3 samples with n=5 features. Each sample is a row-vector in X.\n",
    "\n",
    "X = np.array([[1, 2, 3, 4, 5],\n",
    "     [6, 7, 8, 9, 10],\n",
    "     [11, 12, 13, 14, 15]])  # Nxn matrix\n",
    "\n",
    "# Parameter vector. These parameters takes each sample from R^n and maps them to R^P\n",
    "# Here we have chosen P=4\n",
    "\n",
    "w = np.array([[1, 2, 3, -1],\n",
    "     [4, 5, 6, -2],\n",
    "     [7, 8, 9, -3],\n",
    "     [10, 11, 12, -4],\n",
    "     [13, 14, 15, -5]])    # nxP matrix\n",
    "\n",
    "# \"Weight\" vector a. This vector should be in R^P, where P=4 in this case\n",
    "\n",
    "a= np.array([10, 20, 30, -10]).transpose()   #Transpose it to make it a column vector Px1\n",
    "\n",
    "v = X @ w    # Will form a NxP matrix\n",
    "\n",
    "y = v @ a    # Will form a Nx1 row vector, N=3\n",
    "\n",
    "print(y)\n"
   ],
   "metadata": {
    "collapsed": false,
    "ExecuteTime": {
     "end_time": "2024-08-21T15:31:52.442709Z",
     "start_time": "2024-08-21T15:31:52.438935Z"
    }
   },
   "outputs": [
    {
     "name": "stdout",
     "output_type": "stream",
     "text": [
      "[ 9850 23100 36350]\n"
     ]
    }
   ],
   "execution_count": 5
  },
  {
   "cell_type": "markdown",
   "source": [
    "## Task 1h)"
   ],
   "metadata": {
    "collapsed": false
   }
  },
  {
   "cell_type": "code",
   "source": [
    "from numpy import ndarray\n",
    "\n",
    "def matrix_multiply(X: ndarray, Z: ndarray) :\n",
    "\n",
    "    if X.ndim != 2 or Z.ndim != 2:\n",
    "        raise Exception(\"We only accept ndarrays with the shape of matrixes (two dimensions)\")\n",
    "\n",
    "    print(X.shape)\n",
    "    print(Z.shape)\n",
    "\n",
    "    if X.shape[1] != Z.shape[0] :\n",
    "         raise Exception(\"Number of columns in X must equal number of rows in Y\")\n",
    "\n",
    "    # We have now established a valid multiplication of a nxm with a mxp matrix.\n",
    "    M = X.shape[0]\n",
    "    N = X.shape[1]\n",
    "    P = Z.shape[1]\n",
    "\n",
    "    # Now do the matrix multiplications\n",
    "\n",
    "    Y = np.zeros([M,P])\n",
    "    \n",
    "    for j in range(N-1):\n",
    "        for i in range(P-1):\n",
    "            for k in range(M-1):\n",
    "                Y[i,j] += X[i,k]*Z[k,j]\n",
    "      \n",
    "    \n",
    "    # That was as far as I got...\n",
    "\n",
    "    return Y\n",
    "\n",
    "\n",
    "\n",
    "X = np.array([[1,2,3],\n",
    "              [4,5,6],\n",
    "              [7,8,9],\n",
    "              [10,11,12]])\n",
    "\n",
    "b = np.array([[10,11,12]]).T\n",
    "\n",
    "Y = matrix_multiply(X,b)\n",
    "print(Y[0,0])\n",
    "\n",
    "\n"
   ],
   "metadata": {
    "collapsed": false,
    "ExecuteTime": {
     "end_time": "2024-08-21T15:38:03.593628Z",
     "start_time": "2024-08-21T15:38:03.588836Z"
    }
   },
   "outputs": [
    {
     "name": "stdout",
     "output_type": "stream",
     "text": [
      "(4, 3)\n",
      "(3, 1)\n",
      "0.0\n"
     ]
    }
   ],
   "execution_count": 10
  }
 ],
 "metadata": {
  "kernelspec": {
   "display_name": "Python 3",
   "language": "python",
   "name": "python3"
  },
  "language_info": {
   "codemirror_mode": {
    "name": "ipython",
    "version": 2
   },
   "file_extension": ".py",
   "mimetype": "text/x-python",
   "name": "python",
   "nbconvert_exporter": "python",
   "pygments_lexer": "ipython2",
   "version": "2.7.6"
  }
 },
 "nbformat": 4,
 "nbformat_minor": 0
}
