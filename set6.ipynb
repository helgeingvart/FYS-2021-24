{
 "cells": [
  {
   "metadata": {},
   "cell_type": "markdown",
   "source": [
    "## Problem 1 a) - d): \n",
    "Implement decision tree from scratch. "
   ],
   "id": "a17c26f4321a77fe"
  },
  {
   "metadata": {
    "ExecuteTime": {
     "end_time": "2024-10-09T08:38:00.769351Z",
     "start_time": "2024-10-09T08:38:00.539350Z"
    }
   },
   "cell_type": "code",
   "source": [
    "MINIMUM_ENTROPY = 0.01\n",
    "MINIMUM_PURITY = 1e-15\n",
    "MAXIMUM_DEPTH = 50\n",
    "\n",
    "import numpy as np\n",
    "from numpy import log2\n",
    "import pandas as pd\n",
    "import matplotlib.pyplot as plt\n",
    "from sklearn.model_selection import train_test_split\n",
    "from sklearn.metrics import classification_report, confusion_matrix, precision_score\n",
    "import sys\n",
    "\n",
    "# Task 1a)\n",
    "def entropy(y: np.array):\n",
    "    counts = np.bincount(y)\n",
    "    p_0 = counts[0] / len(y)\n",
    "    p_1 = 1 - p_0\n",
    "    log2p0 = 0 if p_0 == 0 else log2(p_0)  # To accommodate for not taking log of the number 0\n",
    "    log2p1 = 0 if p_1 == 0 else log2(p_1)\n",
    "    return -p_0 * log2p0 - p_1 * log2p1\n",
    "\n",
    "# Task 1b)\n",
    "def split_feature(x: np.array, y: np.array):\n",
    "    min_impurity_index = None\n",
    "    min_impurity = sys.float_info.max\n",
    "    # Iterate over all values in the features in x. Sort x according to the values\n",
    "    i_sorted = np.argsort(x)  \n",
    "    x = x[i_sorted]\n",
    "    y = y[i_sorted]\n",
    "\n",
    "    for i in range(len(x)-1):\n",
    "        sub_1 = y[:i+1]\n",
    "        sub_2 = y[i+1:]\n",
    "        e_1 = entropy(sub_1)\n",
    "        e_2 = entropy(sub_2)\n",
    "        impurity = e_1 * len(sub_1) / len(x) + e_2 * len(sub_2) / len(x)\n",
    "        if impurity < min_impurity:\n",
    "            min_impurity = impurity\n",
    "            min_impurity_index = i\n",
    "\n",
    "    split_value = (x[min_impurity_index+1] + x[min_impurity_index])/2  # This is just a type of \"regularization\" that seem to more stable tree sorting\n",
    "    return split_value, min_impurity\n",
    "\n",
    "# Task 1c)\n",
    "def find_best_split(X: np.array, y: np.array):\n",
    "    M = X.shape[1]\n",
    "    min_impurity_global = sys.float_info.max\n",
    "    min_impurity_feature_index = None\n",
    "    split_value = None\n",
    "    for i in range(M):\n",
    "        feature = X[:, i]\n",
    "        value, min_impurity = split_feature(feature, y)\n",
    "        if min_impurity < min_impurity_global:\n",
    "            min_impurity_global = min_impurity\n",
    "            min_impurity_feature_index = i\n",
    "            split_value = value\n",
    "            # We break out if we find 0 impurity\n",
    "            if min_impurity_global < MINIMUM_PURITY:\n",
    "                break\n",
    "\n",
    "    return min_impurity_feature_index, split_value, min_impurity_global\n",
    "\n",
    "# Task 1d)\n",
    "class Tree:\n",
    "    # Initialize variables\n",
    "    def __init__(self, level, left):\n",
    "        self.__split_value = None\n",
    "        self.__feature_index = None\n",
    "        self.__left_child = None\n",
    "        self.__right_child = None\n",
    "        self.__value = None\n",
    "        self.__level = level + 1\n",
    "        if left is None:\n",
    "            self.__direction = \"Root\"\n",
    "        else:\n",
    "            self.__direction = \"Left\" if left else \"Right\"\n",
    "\n",
    "    # Implements the \"GenerateTree\"-function from Fig. 9.3 in the book.\n",
    "    def fit(self, data, labels):\n",
    "\n",
    "        self.__value = 1 if np.mean(labels) > 0.5 else 0\n",
    "        if entropy(labels) < MINIMUM_ENTROPY:  # Stopping condition for recursion\n",
    "            # Pick the label that has the majority. To be used if we are a leaf-node\n",
    "            print(self.__direction,\"leaf node at level\",self.__level, \"with value\", self.__value)\n",
    "            return\n",
    "\n",
    "        if self.__level >= MAXIMUM_DEPTH:\n",
    "            print(\"Max depth reached, bailing out\")\n",
    "            return\n",
    "\n",
    "        feature_index, split_value, purity = find_best_split(data, labels)\n",
    "        #        if purity < MINIMUM_PURITY:\n",
    "        #            print(\"0 or close to 0 in impurity, this should be a leaf!\")\n",
    "        #            return\n",
    "\n",
    "        self.__feature_index = feature_index\n",
    "        self.__split_value = split_value\n",
    "        print(self.__direction,\"node at level\", self.__level, \". Feature index:\", feature_index, \", split value\",split_value)\n",
    "\n",
    "        feature = data[:, feature_index]\n",
    "        indexes_left = np.where(feature <= split_value)[0]\n",
    "        indexes_right = np.where(feature > split_value)[0]\n",
    "        if len(indexes_right) == 0 or len(indexes_right) == 0 :\n",
    "            print(\"Not able to split data, we consider this a leaf node\")\n",
    "            return\n",
    "\n",
    "        # Create branches\n",
    "        self.__left_child = Tree(self.__level, True)\n",
    "        self.__right_child = Tree(self.__level, False)\n",
    "        # Generate sub-trees.\n",
    "        self.__left_child.fit(data[indexes_left, :], labels[indexes_left])\n",
    "        self.__right_child.fit(data[indexes_right, :], labels[indexes_right])\n",
    "\n",
    "    # Find leaf corresponding to row\n",
    "    def __predict(self, x):\n",
    "        if self.__left_child is None and self.__right_child is None:  # We are a leaf-node\n",
    "            return self.__value\n",
    "\n",
    "        feature_val = x[self.__feature_index]\n",
    "        if feature_val <= self.__split_value:\n",
    "            return self.__left_child.__predict(x)\n",
    "        else:\n",
    "            return self.__right_child.__predict(x)\n",
    "\n",
    "    def predict(self, X):\n",
    "        N = X.shape[0]\n",
    "        y = np.empty(N)\n",
    "        for i in range(N):\n",
    "            y[i] = self.__predict(X[i, :])\n",
    "        return y\n",
    "\n",
    "# 1f)\n",
    "data = pd.read_csv(\"data/tictac-end.csv\", skiprows=7, delimiter=\" \")\n",
    "y = data.iloc[:, 0].to_numpy()\n",
    "X = data.iloc[:, 1:].to_numpy()\n",
    "\n",
    "# Split the dataset into training and test sets (80% train, 20% test)\n",
    "X_train, X_test, y_train, y_test = train_test_split(X, y, test_size=0.2, random_state=42)\n",
    "\n",
    "# Print the shape of the train and test sets\n",
    "print(f'Training set shape: {X_train.shape}')\n",
    "print(f'Test set shape: {X_test.shape}')\n",
    "\n",
    "# 1g)\n",
    "decision_tree = Tree(0,None)\n",
    "decision_tree.fit(X_train, y_train)\n",
    "\n",
    "y_pred = decision_tree.predict(X_test)\n",
    "\n",
    "# Classification report\n",
    "print(\"Classification Report:\\n\")\n",
    "print(classification_report(y_test, y_pred))\n",
    "\n",
    "# Precision score\n",
    "precision = precision_score(y_test, y_pred)\n",
    "print(f'Precision: {precision:.2f}')\n",
    "\n",
    "# Confusion matrix\n",
    "cm = confusion_matrix(y_test, y_pred)\n",
    "print(f'Confusion Matrix:\\n{cm}')"
   ],
   "id": "2e24d87a3470fa72",
   "outputs": [
    {
     "name": "stdout",
     "output_type": "stream",
     "text": [
      "Training set shape: (765, 9)\n",
      "Test set shape: (192, 9)\n",
      "Root node at level 1 . Feature index: 4 , split value -1.0\n",
      "Left node at level 2 . Feature index: 0 , split value 1.0\n",
      "Not able to split data, we consider this a leaf node\n",
      "Right node at level 2 . Feature index: 6 , split value -1.0\n",
      "Left node at level 3 . Feature index: 0 , split value -1.0\n",
      "Left node at level 4 . Feature index: 3 , split value -0.5\n",
      "Left leaf node at level 5 with value 0\n",
      "Right node at level 5 . Feature index: 0 , split value -1.0\n",
      "Not able to split data, we consider this a leaf node\n",
      "Right node at level 4 . Feature index: 8 , split value -1.0\n",
      "Left node at level 5 . Feature index: 7 , split value -0.5\n",
      "Left leaf node at level 6 with value 0\n",
      "Right node at level 6 . Feature index: 3 , split value 1.0\n",
      "Not able to split data, we consider this a leaf node\n",
      "Right leaf node at level 5 with value 1\n",
      "Right node at level 3 . Feature index: 2 , split value -1.0\n",
      "Left node at level 4 . Feature index: 0 , split value -1.0\n",
      "Left node at level 5 . Feature index: 1 , split value -0.5\n",
      "Left leaf node at level 6 with value 0\n",
      "Right node at level 6 . Feature index: 5 , split value -1.0\n",
      "Left node at level 7 . Feature index: 3 , split value 1.0\n",
      "Not able to split data, we consider this a leaf node\n",
      "Right leaf node at level 7 with value 1\n",
      "Right node at level 5 . Feature index: 8 , split value -0.5\n",
      "Left node at level 6 . Feature index: 5 , split value -0.5\n",
      "Left leaf node at level 7 with value 0\n",
      "Right node at level 7 . Feature index: 0 , split value 1.0\n",
      "Not able to split data, we consider this a leaf node\n",
      "Right leaf node at level 6 with value 1\n",
      "Right leaf node at level 4 with value 1\n",
      "Classification Report:\n",
      "\n",
      "              precision    recall  f1-score   support\n",
      "\n",
      "           0       0.63      0.93      0.75        67\n",
      "           1       0.95      0.70      0.81       125\n",
      "\n",
      "    accuracy                           0.78       192\n",
      "   macro avg       0.79      0.81      0.78       192\n",
      "weighted avg       0.83      0.78      0.79       192\n",
      "\n",
      "Precision: 0.95\n",
      "Confusion Matrix:\n",
      "[[62  5]\n",
      " [37 88]]\n"
     ]
    }
   ],
   "execution_count": 2
  },
  {
   "metadata": {},
   "cell_type": "markdown",
   "source": "## Problem 1e) Test the tree with blobs.csv and flame.csv\n",
   "id": "23723385271fbdbd"
  },
  {
   "metadata": {
    "ExecuteTime": {
     "end_time": "2024-10-09T08:38:21.951702Z",
     "start_time": "2024-10-09T08:38:21.858522Z"
    }
   },
   "cell_type": "code",
   "source": [
    "y_and_X = np.genfromtxt(\"data/flame.csv\", delimiter=' ', skip_header=5)\n",
    "X = y_and_X[:, 1:]\n",
    "\n",
    "y = y_and_X[:, 0]\n",
    "X_0 = X[y==0,:]\n",
    "X_1 = X[y==1,:]\n",
    "\n",
    "# Ground truth\n",
    "plt.scatter(X_0[:,0], X_0[:,1], color=\"red\")\n",
    "plt.scatter(X_1[:,0], X_1[:,1], color=\"blue\")\n"
   ],
   "id": "1d0ef98d612c8136",
   "outputs": [
    {
     "data": {
      "text/plain": [
       "<matplotlib.collections.PathCollection at 0x289bdfa48c0>"
      ]
     },
     "execution_count": 3,
     "metadata": {},
     "output_type": "execute_result"
    },
    {
     "data": {
      "text/plain": [
       "<Figure size 640x480 with 1 Axes>"
      ],
      "image/png": "[encoded data removed]"
     },
     "metadata": {},
     "output_type": "display_data"
    }
   ],
   "execution_count": 3
  },
  {
   "metadata": {},
   "cell_type": "markdown",
   "source": "The task do not mention anything about test/train splitting on this set, so I guess we can just train and test on the same set? Oh well, don't think so, will get perfect results (as shown below) ;-)",
   "id": "d15c294d93d9a9a2"
  },
  {
   "metadata": {
    "ExecuteTime": {
     "end_time": "2024-10-09T08:38:26.279714Z",
     "start_time": "2024-10-09T08:38:26.194744Z"
    }
   },
   "cell_type": "code",
   "source": [
    "decision_tree = Tree(0,None)\n",
    "y = y.astype(int)\n",
    "decision_tree.fit(X, y)\n",
    "\n",
    "y_pred = decision_tree.predict(X)\n",
    "X_0 = X[y_pred==0,:]\n",
    "X_1 = X[y_pred==1,:]\n",
    "plt.scatter(X_0[:,0], X_0[:,1], color=\"red\")\n",
    "plt.scatter(X_1[:,0], X_1[:,1], color=\"blue\")\n",
    "\n",
    "\n",
    "\n"
   ],
   "id": "6e683924c1326b7a",
   "outputs": [
    {
     "name": "stdout",
     "output_type": "stream",
     "text": [
      "Root node at level 1 . Feature index: 1 , split value 20.475\n",
      "Left leaf node at level 2 with value 1\n",
      "Right node at level 2 . Feature index: 0 , split value 10.7\n",
      "Left node at level 3 . Feature index: 0 , split value 3.35\n",
      "Left node at level 4 . Feature index: 1 , split value 24.95\n",
      "Left leaf node at level 5 with value 1\n",
      "Right leaf node at level 5 with value 0\n",
      "Right node at level 4 . Feature index: 1 , split value 21.15\n",
      "Left node at level 5 . Feature index: 0 , split value 5.675000000000001\n",
      "Left leaf node at level 6 with value 1\n",
      "Right leaf node at level 6 with value 0\n",
      "Right leaf node at level 5 with value 0\n",
      "Right leaf node at level 3 with value 1\n"
     ]
    },
    {
     "data": {
      "text/plain": [
       "<matplotlib.collections.PathCollection at 0x289dadba300>"
      ]
     },
     "execution_count": 4,
     "metadata": {},
     "output_type": "execute_result"
    },
    {
     "data": {
      "text/plain": [
       "<Figure size 640x480 with 1 Axes>"
      ],
      "image/png": "[encoded data removed]"
     },
     "metadata": {},
     "output_type": "display_data"
    }
   ],
   "execution_count": 4
  }
 ],
 "metadata": {
  "kernelspec": {
   "display_name": "Python 3",
   "language": "python",
   "name": "python3"
  },
  "language_info": {
   "codemirror_mode": {
    "name": "ipython",
    "version": 2
   },
   "file_extension": ".py",
   "mimetype": "text/x-python",
   "name": "python",
   "nbconvert_exporter": "python",
   "pygments_lexer": "ipython2",
   "version": "2.7.6"
  }
 },
 "nbformat": 4,
 "nbformat_minor": 5
}
