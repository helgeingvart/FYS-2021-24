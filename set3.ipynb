{
 "cells": [
  {
   "cell_type": "markdown",
   "source": [
    "# FYS-2021: Exercise set 3: Logistic Regression and Evaluation Metrics\n",
    "\n",
    "## Task 1)\n"
   ],
   "metadata": {
    "collapsed": false
   },
   "id": "5444e7c6b5dc99f4"
  },
  {
   "cell_type": "code",
   "execution_count": null,
   "id": "initial_id",
   "metadata": {
    "collapsed": true
   },
   "outputs": [],
   "source": []
  }
 ],
 "metadata": {
  "kernelspec": {
   "display_name": "Python 3",
   "language": "python",
   "name": "python3"
  },
  "language_info": {
   "codemirror_mode": {
    "name": "ipython",
    "version": 2
   },
   "file_extension": ".py",
   "mimetype": "text/x-python",
   "name": "python",
   "nbconvert_exporter": "python",
   "pygments_lexer": "ipython2",
   "version": "2.7.6"
  }
 },
 "nbformat": 4,
 "nbformat_minor": 5
}
